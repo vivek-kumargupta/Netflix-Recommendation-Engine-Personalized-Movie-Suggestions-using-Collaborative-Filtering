{
 "cells": [
  {
   "cell_type": "code",
   "execution_count": 1,
   "id": "782ff2c5-84e7-4261-91b8-3ea28b37ecd2",
   "metadata": {},
   "outputs": [],
   "source": [
    "import numpy as np\n",
    "import pandas as pd\n",
    "from sklearn.preprocessing import StandardScaler, MinMaxScaler\n",
    "from sklearn.decomposition import TruncatedSVD\n",
    "from sklearn.cluster import KMeans\n",
    "from surprise import SVD, Dataset, Reader\n",
    "import warnings\n",
    "warnings.filterwarnings(\"ignore\")\n"
   ]
  },
  {
   "cell_type": "code",
   "execution_count": 2,
   "id": "dfa15683-c2f0-4a2e-82e8-2473acfbeb22",
   "metadata": {},
   "outputs": [
    {
     "name": "stdout",
     "output_type": "stream",
     "text": [
      "   Cust_Id  Rating\n",
      "0       1:     NaN\n",
      "1  1488844     3.0\n",
      "2   822109     5.0\n",
      "3   885013     4.0\n",
      "4    30878     4.0\n"
     ]
    }
   ],
   "source": [
    "netflix_dataset = pd.read_csv(\"combined_data_1.txt\", header=None, names=[\"Cust_Id\",\"Rating\"], usecols=[0,1])\n",
    "print(netflix_dataset.head())\n"
   ]
  },
  {
   "cell_type": "code",
   "execution_count": 3,
   "id": "aec4ee6c-84fb-472f-8295-9897c56a0efe",
   "metadata": {},
   "outputs": [
    {
     "name": "stdout",
     "output_type": "stream",
     "text": [
      "   Cust_Id  Rating  Movie_Id\n",
      "1  1488844     3.0         1\n",
      "2   822109     5.0         1\n",
      "3   885013     4.0         1\n",
      "4    30878     4.0         1\n",
      "5   823519     3.0         1\n"
     ]
    }
   ],
   "source": [
    "df_nan = pd.DataFrame(pd.isnull(netflix_dataset.Rating))\n",
    "df_nan = df_nan[df_nan['Rating'] == True]\n",
    "\n",
    "movie_np = []\n",
    "movie_id = 1\n",
    "\n",
    "for i, j in zip(df_nan.index[1:], df_nan.index[:-1]):\n",
    "    temp = np.full((1, i-j-1), movie_id)\n",
    "    movie_np = np.append(movie_np, temp)\n",
    "    movie_id += 1\n",
    "\n",
    "last_record = np.full((1, len(netflix_dataset) - df_nan.index[-1] - 1), movie_id)\n",
    "movie_np = np.append(movie_np, last_record)\n",
    "\n",
    "netflix_dataset = netflix_dataset[pd.notnull(netflix_dataset['Rating'])]\n",
    "netflix_dataset['Movie_Id'] = movie_np.astype(int)\n",
    "\n",
    "print(netflix_dataset.head())\n"
   ]
  },
  {
   "cell_type": "code",
   "execution_count": 4,
   "id": "84393ba1-23e2-4d79-903a-c6d4f2c7ba7c",
   "metadata": {},
   "outputs": [
    {
     "name": "stdout",
     "output_type": "stream",
     "text": [
      "Movies loaded: (17434, 3)\n",
      "   Movie_Id    Year                          Name\n",
      "0         1  2003.0               Dinosaur Planet\n",
      "1         2  2004.0    Isle of Man TT 2004 Review\n",
      "2         3  1997.0                     Character\n",
      "3         4  1994.0  Paula Abdul's Get Up & Dance\n",
      "4         5  2004.0      The Rise and Fall of ECW\n"
     ]
    }
   ],
   "source": [
    "df_movies = pd.read_csv(\n",
    "    \"movie_titles.csv\", encoding=\"ISO-8859-1\",\n",
    "    header=None, names=['Movie_Id','Year','Name'],\n",
    "    quotechar='\"', on_bad_lines=\"skip\"\n",
    ")\n",
    "\n",
    "print(\"Movies loaded:\", df_movies.shape)\n",
    "print(df_movies.head())\n"
   ]
  },
  {
   "cell_type": "code",
   "execution_count": 7,
   "id": "1214eadb-04ff-4a33-838c-7f5e85829d81",
   "metadata": {},
   "outputs": [
    {
     "name": "stdout",
     "output_type": "stream",
     "text": [
      "Unique movies: 4499\n",
      "Unique users: 470758\n",
      "Sparse matrix shape (Movies × Users): (4499, 470758)\n",
      "Stored values (ratings): 24053764\n"
     ]
    }
   ],
   "source": [
    "from scipy.sparse import csr_matrix\n",
    "\n",
    "# Step 1: Get unique movies and users\n",
    "unique_movies = netflix_dataset['Movie_Id'].unique()\n",
    "unique_users = netflix_dataset['Cust_Id'].unique()\n",
    "\n",
    "print(\"Unique movies:\", len(unique_movies))\n",
    "print(\"Unique users:\", len(unique_users))\n",
    "\n",
    "# Step 2: Create mapping dicts (NumPy-based, lighter than category conversion)\n",
    "movie_id_to_index = {mid: idx for idx, mid in enumerate(unique_movies)}\n",
    "index_to_movie_id = {idx: mid for idx, mid in enumerate(unique_movies)}\n",
    "\n",
    "user_id_to_index = {uid: idx for idx, uid in enumerate(unique_users)}\n",
    "index_to_user_id = {idx: uid for idx, uid in enumerate(unique_users)}\n",
    "\n",
    "# Step 3: Build sparse ratings matrix (Movies × Users)\n",
    "row_idx = netflix_dataset['Movie_Id'].map(movie_id_to_index)\n",
    "col_idx = netflix_dataset['Cust_Id'].map(user_id_to_index)\n",
    "data = netflix_dataset['Rating']\n",
    "\n",
    "sparse_matrix = csr_matrix((data, (row_idx, col_idx)), \n",
    "                           shape=(len(unique_movies), len(unique_users)))\n",
    "\n",
    "print(\"Sparse matrix shape (Movies × Users):\", sparse_matrix.shape)\n",
    "print(\"Stored values (ratings):\", sparse_matrix.nnz)"
   ]
  },
  {
   "cell_type": "code",
   "execution_count": 8,
   "id": "eeab24d7-a003-4664-89d8-b6dc63ae842b",
   "metadata": {},
   "outputs": [
    {
     "name": "stdout",
     "output_type": "stream",
     "text": [
      "Rating feature matrix shape: (4499, 50)\n",
      "Year feature shape: (4499, 1)\n"
     ]
    }
   ],
   "source": [
    "from sklearn.decomposition import TruncatedSVD\n",
    "from sklearn.preprocessing import MinMaxScaler\n",
    "import numpy as np\n",
    "\n",
    "# Step 1: Dimensionality reduction on sparse matrix\n",
    "svd_reducer = TruncatedSVD(n_components=50, random_state=42)\n",
    "rating_features = svd_reducer.fit_transform(sparse_matrix)\n",
    "\n",
    "print(\"Rating feature matrix shape:\", rating_features.shape)\n",
    "\n",
    "# Step 2: Add Year info (aligned with movie index order)\n",
    "# Convert movie_id → index mapping into a DataFrame\n",
    "df_movies_filtered = df_movies[df_movies['Movie_Id'].isin(unique_movies)]\n",
    "\n",
    "# Reindex years to follow movie_id_to_index order\n",
    "years = df_movies_filtered.set_index('Movie_Id').reindex(\n",
    "    [index_to_movie_id[i] for i in range(len(index_to_movie_id))]\n",
    ")['Year'].fillna(0).values.reshape(-1, 1)\n",
    "\n",
    "# Step 3: Normalize year to [0,1]\n",
    "year_scaler = MinMaxScaler()\n",
    "year_scaled = year_scaler.fit_transform(years)\n",
    "\n",
    "print(\"Year feature shape:\", year_scaled.shape)\n",
    "\n"
   ]
  },
  {
   "cell_type": "code",
   "execution_count": 9,
   "id": "ded7f97c-7850-4e77-976a-a1b49447c817",
   "metadata": {},
   "outputs": [
    {
     "name": "stdout",
     "output_type": "stream",
     "text": [
      "Final movie feature matrix: (4499, 51)\n"
     ]
    }
   ],
   "source": [
    "# Combine latent rating features + year into final representation\n",
    "movie_features = np.hstack([rating_features, year_scaled])\n",
    "\n",
    "print(\"Final movie feature matrix:\", movie_features.shape)\n",
    "\n",
    "\n"
   ]
  },
  {
   "cell_type": "code",
   "execution_count": 35,
   "id": "6ed26078-7e6e-41af-9515-d68feb52e2e2",
   "metadata": {},
   "outputs": [
    {
     "data": {
      "text/plain": [
       "array([[ 4.98783594e+00, -7.00471131e-03, -3.93045582e+00, ...,\n",
       "        -2.43922229e-01,  8.70708711e-01,  9.99002494e-01],\n",
       "       [ 8.97890974e-01,  3.24258400e-01, -2.77706797e-01, ...,\n",
       "        -1.63163077e-02,  2.69850348e-01,  9.99501247e-01],\n",
       "       [ 1.38422811e+01,  1.91553409e+01,  2.36902466e+00, ...,\n",
       "         5.43808790e-01,  2.52880997e+00,  9.96009975e-01],\n",
       "       ...,\n",
       "       [ 5.64557185e+00,  4.72685151e+00, -4.39061618e+00, ...,\n",
       "         4.47901082e-01,  1.64530928e+00,  9.92518703e-01],\n",
       "       [ 1.55366423e+00,  1.52855019e+00, -1.04609897e+00, ...,\n",
       "         4.26217404e-01,  2.71169723e-02,  9.97506234e-01],\n",
       "       [ 2.27230096e+00,  2.86733303e+00, -4.35007200e-01, ...,\n",
       "        -2.71625738e-01,  6.65453122e-01,  9.98503741e-01]])"
      ]
     },
     "execution_count": 35,
     "metadata": {},
     "output_type": "execute_result"
    }
   ],
   "source": [
    "movie_features"
   ]
  },
  {
   "cell_type": "code",
   "execution_count": 26,
   "id": "7195604b-29ac-49b0-b46a-bc1d87d95daa",
   "metadata": {},
   "outputs": [
    {
     "name": "stdout",
     "output_type": "stream",
     "text": [
      "   Movie_Id  Genre    Year\n",
      "0         1      0  2003.0\n",
      "1         2      0  2004.0\n",
      "2         3      0  1997.0\n",
      "3         4      0  1994.0\n",
      "4         5      0  2004.0\n"
     ]
    }
   ],
   "source": [
    "from sklearn.cluster import KMeans\n",
    "\n",
    "k = 5\n",
    "kmeans = KMeans(n_clusters=k, random_state=42, n_init=10, algorithm=\"elkan\")\n",
    "movie_genres = kmeans.fit_predict(movie_features)\n",
    "\n",
    "# Map back to Movie_Id\n",
    "movie_genre_df = pd.DataFrame({\n",
    "    \"Movie_Id\": [index_to_movie_id[i] for i in range(len(index_to_movie_id))],\n",
    "    \"Genre\": movie_genres,\n",
    "    \"Year\": years.flatten()\n",
    "})\n",
    "\n",
    "print(movie_genre_df.head())\n"
   ]
  },
  {
   "cell_type": "code",
   "execution_count": 27,
   "id": "ef7f76be-9ba1-4110-b13d-922654cd8a2d",
   "metadata": {},
   "outputs": [
    {
     "name": "stdout",
     "output_type": "stream",
     "text": [
      "Dataset with genres: (24053764, 5)\n"
     ]
    },
    {
     "data": {
      "text/html": [
       "<div>\n",
       "<style scoped>\n",
       "    .dataframe tbody tr th:only-of-type {\n",
       "        vertical-align: middle;\n",
       "    }\n",
       "\n",
       "    .dataframe tbody tr th {\n",
       "        vertical-align: top;\n",
       "    }\n",
       "\n",
       "    .dataframe thead th {\n",
       "        text-align: right;\n",
       "    }\n",
       "</style>\n",
       "<table border=\"1\" class=\"dataframe\">\n",
       "  <thead>\n",
       "    <tr style=\"text-align: right;\">\n",
       "      <th></th>\n",
       "      <th>Cust_Id</th>\n",
       "      <th>Rating</th>\n",
       "      <th>Movie_Id</th>\n",
       "      <th>Genre</th>\n",
       "      <th>Year</th>\n",
       "    </tr>\n",
       "  </thead>\n",
       "  <tbody>\n",
       "    <tr>\n",
       "      <th>0</th>\n",
       "      <td>1488844</td>\n",
       "      <td>3.0</td>\n",
       "      <td>1</td>\n",
       "      <td>0</td>\n",
       "      <td>2003.0</td>\n",
       "    </tr>\n",
       "    <tr>\n",
       "      <th>1</th>\n",
       "      <td>822109</td>\n",
       "      <td>5.0</td>\n",
       "      <td>1</td>\n",
       "      <td>0</td>\n",
       "      <td>2003.0</td>\n",
       "    </tr>\n",
       "    <tr>\n",
       "      <th>2</th>\n",
       "      <td>885013</td>\n",
       "      <td>4.0</td>\n",
       "      <td>1</td>\n",
       "      <td>0</td>\n",
       "      <td>2003.0</td>\n",
       "    </tr>\n",
       "    <tr>\n",
       "      <th>3</th>\n",
       "      <td>30878</td>\n",
       "      <td>4.0</td>\n",
       "      <td>1</td>\n",
       "      <td>0</td>\n",
       "      <td>2003.0</td>\n",
       "    </tr>\n",
       "    <tr>\n",
       "      <th>4</th>\n",
       "      <td>823519</td>\n",
       "      <td>3.0</td>\n",
       "      <td>1</td>\n",
       "      <td>0</td>\n",
       "      <td>2003.0</td>\n",
       "    </tr>\n",
       "  </tbody>\n",
       "</table>\n",
       "</div>"
      ],
      "text/plain": [
       "   Cust_Id  Rating  Movie_Id  Genre    Year\n",
       "0  1488844     3.0         1      0  2003.0\n",
       "1   822109     5.0         1      0  2003.0\n",
       "2   885013     4.0         1      0  2003.0\n",
       "3    30878     4.0         1      0  2003.0\n",
       "4   823519     3.0         1      0  2003.0"
      ]
     },
     "execution_count": 27,
     "metadata": {},
     "output_type": "execute_result"
    }
   ],
   "source": [
    "df_with_genres = netflix_dataset.merge(movie_genre_df, on=\"Movie_Id\")\n",
    "\n",
    "print(\"Dataset with genres:\", df_with_genres.shape)\n",
    "df_with_genres.head()\n"
   ]
  },
  {
   "cell_type": "code",
   "execution_count": 28,
   "id": "b0f34b07-c915-4b41-b7df-56580a8e8655",
   "metadata": {},
   "outputs": [
    {
     "name": "stdout",
     "output_type": "stream",
     "text": [
      "Most Popular Genres:\n",
      " Genre\n",
      "4    6847117\n",
      "2    5480628\n",
      "0    4907752\n",
      "1    4306124\n",
      "3    2512143\n",
      "Name: Rating, dtype: int64\n",
      "\n",
      "Best Liked Genres:\n",
      " Genre\n",
      "1    3.803068\n",
      "3    3.753253\n",
      "2    3.604687\n",
      "4    3.559003\n",
      "0    3.393550\n",
      "Name: Rating, dtype: float64\n"
     ]
    }
   ],
   "source": [
    "genre_popularity = df_with_genres.groupby(\"Genre\")['Rating'].count().sort_values(ascending=False)\n",
    "genre_avg_rating = df_with_genres.groupby(\"Genre\")['Rating'].mean().sort_values(ascending=False)\n",
    "\n",
    "print(\"Most Popular Genres:\\n\", genre_popularity)\n",
    "print(\"\\nBest Liked Genres:\\n\", genre_avg_rating)\n"
   ]
  },
  {
   "cell_type": "code",
   "execution_count": 29,
   "id": "f25ac51a-faf5-4cb6-bd00-dfa91215a143",
   "metadata": {},
   "outputs": [
    {
     "name": "stdout",
     "output_type": "stream",
     "text": [
      "Model trained on sample: 400000 ratings\n"
     ]
    }
   ],
   "source": [
    "from surprise import Dataset, Reader, SVD\n",
    "from surprise.model_selection import train_test_split\n",
    "\n",
    "# Step 1: Sample manageable chunk\n",
    "sampled_ratings = netflix_dataset.sample(n=500_000, random_state=42)\n",
    "\n",
    "# Step 2: Define reader + dataset\n",
    "reader = Reader(rating_scale=(1, 5))\n",
    "data = Dataset.load_from_df(sampled_ratings[['Cust_Id', 'Movie_Id', 'Rating']], reader)\n",
    "\n",
    "# Step 3: Train-test split\n",
    "trainset, testset = train_test_split(data, test_size=0.2, random_state=42)\n",
    "\n",
    "# Step 4: Train SVD model\n",
    "svd = SVD(n_factors=50, random_state=42)\n",
    "svd.fit(trainset)\n",
    "\n",
    "# Count ratings in trainset\n",
    "num_ratings = sum(1 for _ in trainset.all_ratings())\n",
    "print(\"Model trained on sample:\", num_ratings, \"ratings\")\n",
    "\n"
   ]
  },
  {
   "cell_type": "code",
   "execution_count": 30,
   "id": "ca79b0e5-e276-49cd-8a6d-cd8665e6b441",
   "metadata": {},
   "outputs": [
    {
     "name": "stdout",
     "output_type": "stream",
     "text": [
      "   Genre  Movie_Id  Predicted_Rating\n",
      "0      0      4427          4.527076\n",
      "1      1      3938          4.275357\n",
      "2      2      1144          4.101157\n",
      "3      3      3371          4.050832\n",
      "4      4      2162          4.503905\n"
     ]
    }
   ],
   "source": [
    "def recommend_per_genre(user_id, svd_model, movie_genre_df, top_n=1):\n",
    "    \"\"\"\n",
    "    Recommend top N movies for a given user across each genre cluster.\n",
    "    \"\"\"\n",
    "    recommendations = []\n",
    "\n",
    "    for genre_id in sorted(movie_genre_df[\"Genre\"].unique()):\n",
    "        # Movies belonging to this genre\n",
    "        genre_movies = movie_genre_df[movie_genre_df[\"Genre\"] == genre_id][\"Movie_Id\"].values\n",
    "        \n",
    "        # Predict ratings for this user on all movies in this genre\n",
    "        preds = [(mid, svd_model.predict(user_id, mid).est) for mid in genre_movies]\n",
    "        \n",
    "        # Pick top N movies in this genre\n",
    "        top_movies = sorted(preds, key=lambda x: x[1], reverse=True)[:top_n]\n",
    "        \n",
    "        for mid, score in top_movies:\n",
    "            recommendations.append({\"Genre\": genre_id, \"Movie_Id\": mid, \"Predicted_Rating\": score})\n",
    "    \n",
    "    return pd.DataFrame(recommendations)\n",
    "\n",
    "# Example: Recommend 1 movie per genre for a user\n",
    "example_user = sampled_ratings[\"Cust_Id\"].iloc[0]\n",
    "user_recs = recommend_per_genre(example_user, svd, movie_genre_df, top_n=1)\n",
    "\n",
    "print(user_recs.head())\n"
   ]
  },
  {
   "cell_type": "code",
   "execution_count": 31,
   "id": "fdcddd2e-9e15-4063-867d-e0b8abdc1d56",
   "metadata": {},
   "outputs": [
    {
     "name": "stdout",
     "output_type": "stream",
     "text": [
      "Best Genre (highest avg rating): {'Genre': 1.0, 'Rating': 3.8052293424213643}\n",
      "Worst Genre (lowest avg rating): {'Genre': 0.0, 'Rating': 3.3864081089542895}\n"
     ]
    }
   ],
   "source": [
    "# Merge ratings with genres\n",
    "ratings_with_genres = sampled_ratings.merge(movie_genre_df, on=\"Movie_Id\")\n",
    "\n",
    "# Compute mean rating per genre\n",
    "genre_ratings = ratings_with_genres.groupby(\"Genre\")[\"Rating\"].mean().reset_index()\n",
    "\n",
    "best_genre = genre_ratings.loc[genre_ratings[\"Rating\"].idxmax()]\n",
    "worst_genre = genre_ratings.loc[genre_ratings[\"Rating\"].idxmin()]\n",
    "\n",
    "print(\"Best Genre (highest avg rating):\", best_genre.to_dict())\n",
    "print(\"Worst Genre (lowest avg rating):\", worst_genre.to_dict())\n"
   ]
  },
  {
   "cell_type": "markdown",
   "id": "1fe428d8-be1b-4b99-b726-4a3e72fad4bc",
   "metadata": {},
   "source": [
    "Distribution of Ratings per Genre"
   ]
  },
  {
   "cell_type": "code",
   "execution_count": 32,
   "id": "f6d6bab8-0625-47b8-b022-a4776ac96fce",
   "metadata": {},
   "outputs": [
    {
     "data": {
      "text/plain": [
       "<Figure size 1000x600 with 0 Axes>"
      ]
     },
     "metadata": {},
     "output_type": "display_data"
    },
    {
     "data": {
      "image/png": "[encoded data removed]",
      "text/plain": [
       "<Figure size 640x480 with 1 Axes>"
      ]
     },
     "metadata": {},
     "output_type": "display_data"
    },
    {
     "data": {
      "text/plain": [
       "'\\nTaller boxes → more variation in opinions.\\n\\nHigher medians → genres users generally enjoy more.\\n\\nOutliers → movies rated very differently from the trend.\\n'"
      ]
     },
     "execution_count": 32,
     "metadata": {},
     "output_type": "execute_result"
    }
   ],
   "source": [
    "import matplotlib.pyplot as plt\n",
    "\n",
    "# Merge ratings with genres\n",
    "ratings_with_genres = sampled_ratings.merge(movie_genre_df, on=\"Movie_Id\")\n",
    "\n",
    "plt.figure(figsize=(10,6))\n",
    "ratings_with_genres.boxplot(column=\"Rating\", by=\"Genre\")\n",
    "plt.title(\"Distribution of Ratings per Genre (Cluster)\")\n",
    "plt.suptitle(\"\")  # remove extra title\n",
    "plt.xlabel(\"Genre (Cluster ID)\")\n",
    "plt.ylabel(\"Rating\")\n",
    "plt.show()\n",
    "\n",
    "\n",
    "'''\n",
    "Taller boxes → more variation in opinions.\n",
    "\n",
    "Higher medians → genres users generally enjoy more.\n",
    "\n",
    "Outliers → movies rated very differently from the trend.\n",
    "'''"
   ]
  },
  {
   "cell_type": "code",
   "execution_count": 33,
   "id": "9cdd316a-227d-4dd5-9e5d-a5ec5d24232c",
   "metadata": {},
   "outputs": [
    {
     "data": {
      "image/png": "[encoded data removed]",
      "text/plain": [
       "<Figure size 1000x600 with 1 Axes>"
      ]
     },
     "metadata": {},
     "output_type": "display_data"
    },
    {
     "data": {
      "text/plain": [
       "'\\nAverage Rating per Genre (Bar Plot)\\n'"
      ]
     },
     "execution_count": 33,
     "metadata": {},
     "output_type": "execute_result"
    }
   ],
   "source": [
    "genre_ratings = ratings_with_genres.groupby(\"Genre\")[\"Rating\"].mean().reset_index()\n",
    "\n",
    "plt.figure(figsize=(10,6))\n",
    "plt.bar(genre_ratings[\"Genre\"], genre_ratings[\"Rating\"], color=\"skyblue\")\n",
    "plt.title(\"Average Rating per Genre\")\n",
    "plt.xlabel(\"Genre (Cluster ID)\")\n",
    "plt.ylabel(\"Average Rating\")\n",
    "plt.show()\n",
    "'''\n",
    "Average Rating per Genre (Bar Plot)\n",
    "'''"
   ]
  },
  {
   "cell_type": "code",
   "execution_count": 34,
   "id": "195cf218-5b8c-4035-bb8c-003ab08ae7b7",
   "metadata": {},
   "outputs": [
    {
     "data": {
      "image/png": "[encoded data removed]",
      "text/plain": [
       "<Figure size 1000x600 with 1 Axes>"
      ]
     },
     "metadata": {},
     "output_type": "display_data"
    },
    {
     "data": {
      "text/plain": [
       "'\\nNumber of Movies per Genre\\n'"
      ]
     },
     "execution_count": 34,
     "metadata": {},
     "output_type": "execute_result"
    }
   ],
   "source": [
    "movie_counts = movie_genre_df[\"Genre\"].value_counts().sort_index()\n",
    "\n",
    "plt.figure(figsize=(10,6))\n",
    "plt.bar(movie_counts.index, movie_counts.values, color=\"orange\")\n",
    "plt.title(\"Number of Movies per Genre\")\n",
    "plt.xlabel(\"Genre (Cluster ID)\")\n",
    "plt.ylabel(\"Number of Movies\")\n",
    "plt.show()\n",
    "'''\n",
    "Number of Movies per Genre\n",
    "'''"
   ]
  },
  {
   "cell_type": "code",
   "execution_count": 36,
   "id": "8fd172d9-e303-4aaa-81d7-8c263d450579",
   "metadata": {},
   "outputs": [
    {
     "data": {
      "image/png": "[encoded data removed]",
      "text/plain": [
       "<Figure size 1000x600 with 1 Axes>"
      ]
     },
     "metadata": {},
     "output_type": "display_data"
    }
   ],
   "source": [
    "# Example recommendations for one user\n",
    "user_recs = recommend_per_genre(example_user, svd, movie_genre_df, top_n=1)\n",
    "\n",
    "plt.figure(figsize=(10,6))\n",
    "plt.bar(user_recs[\"Genre\"], user_recs[\"Predicted_Rating\"], color=\"green\")\n",
    "plt.title(f\"Recommended Movies for User {example_user} (Top 1 per Genre)\")\n",
    "plt.xlabel(\"Genre (Cluster ID)\")\n",
    "plt.ylabel(\"Predicted Rating\")\n",
    "plt.show()\n"
   ]
  },
  {
   "cell_type": "code",
   "execution_count": null,
   "id": "d5d7d838-88c0-4d0a-be54-edc124de08ec",
   "metadata": {},
   "outputs": [],
   "source": []
  }
 ],
 "metadata": {
  "kernelspec": {
   "display_name": "Python 3 (ipykernel)",
   "language": "python",
   "name": "python3"
  },
  "language_info": {
   "codemirror_mode": {
    "name": "ipython",
    "version": 3
   },
   "file_extension": ".py",
   "mimetype": "text/x-python",
   "name": "python",
   "nbconvert_exporter": "python",
   "pygments_lexer": "ipython3",
   "version": "3.11.7"
  }
 },
 "nbformat": 4,
 "nbformat_minor": 5
}
